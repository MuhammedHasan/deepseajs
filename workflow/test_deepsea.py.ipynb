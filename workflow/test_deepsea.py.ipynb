{
 "cells": [
  {
   "cell_type": "code",
   "execution_count": null,
   "id": "f793dc0e",
   "metadata": {},
   "outputs": [],
   "source": [
    "import torch\n",
    "import pytorch_lightning as pl\n",
    "from .deepsea import DeepSea, DeepSeaModule"
   ]
  },
  {
   "cell_type": "code",
   "execution_count": null,
   "id": "ea0f4377",
   "metadata": {},
   "outputs": [],
   "source": [
    "torch.set_float32_matmul_precision('medium')\n",
    "\n",
    "threads = snakemake.threads\n",
    "devices = snakemake.params['devices']\n",
    "batch_size = 512 #snakemake.params['batch_size']"
   ]
  },
  {
   "cell_type": "code",
   "execution_count": null,
   "id": "8b18c7c9",
   "metadata": {},
   "outputs": [],
   "source": [
    "datamodule = DeepSeaModule(\n",
    "    snakemake.input['train'],\n",
    "    snakemake.input['val'],\n",
    "    snakemake.input['test'],\n",
    "    num_workers=threads,\n",
    "    batch_size=batch_size\n",
    ")\n",
    "dl = datamodule.test_dataloader()"
   ]
  },
  {
   "cell_type": "code",
   "execution_count": null,
   "id": "0ca1785d",
   "metadata": {},
   "outputs": [],
   "source": [
    "import h5py\n",
    "\n",
    "output_size = h5py.File(snakemake.input['train'])['traindata'].shape[0]\n",
    "model = DeepSea(output_size=output_size)\n",
    "model.load_state_dict(torch.load(snakemake.input['model']))"
   ]
  },
  {
   "cell_type": "code",
   "execution_count": null,
   "id": "55055e37",
   "metadata": {},
   "outputs": [],
   "source": [
    "trainer = pl.Trainer(\n",
    "    devices=devices,\n",
    "    precision=\"bf16-mixed\",\n",
    ")\n",
    "pred = trainer.predict(model=model, dataloaders=dl, return_predictions=True)\n",
    "pred = torch.concat(pred).cpu().double().numpy()"
   ]
  },
  {
   "cell_type": "code",
   "execution_count": null,
   "id": "76b99ce9",
   "metadata": {},
   "outputs": [],
   "source": [
    "_, y = datamodule._read_mat(snakemake.input['test'], 'test')"
   ]
  },
  {
   "cell_type": "code",
   "execution_count": null,
   "id": "64b85778",
   "metadata": {},
   "outputs": [],
   "source": [
    "import numpy as np\n",
    "from tqdm import tqdm\n",
    "import matplotlib.pyplot as plt\n",
    "from sklearn.metrics import roc_curve, auc\n",
    "\n",
    "aucs = list()\n",
    "\n",
    "for y_pred, y_true in tqdm(zip(pred.T, y.T)):\n",
    "    fpr, tpr,_ = roc_curve(y_true, y_pred)    \n",
    "    aucs.append(auc(fpr, tpr))\n",
    "    plt.plot(fpr, tpr, c='black', lw=1, alpha=0.1)\n",
    "\n",
    "plt.xlabel('False Positive Rate')\n",
    "plt.ylabel('True Positive Rate')\n",
    "plt.title(f'DeepSEA auc={np.mean(aucs)}±{np.std(aucs)}')\n",
    "plt.savefig(snakemake.output['fig'], dpi=300)"
   ]
  }
 ],
 "metadata": {
  "kernelspec": {
   "display_name": "missense",
   "language": "python",
   "name": "python3"
  },
  "language_info": {
   "codemirror_mode": {
    "name": "ipython",
    "version": 3
   },
   "file_extension": ".py",
   "mimetype": "text/x-python",
   "name": "python",
   "nbconvert_exporter": "python",
   "pygments_lexer": "ipython3",
   "version": "3.8.16"
  }
 },
 "nbformat": 4,
 "nbformat_minor": 5
}
